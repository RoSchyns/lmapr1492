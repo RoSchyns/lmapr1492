{
 "cells": [
  {
   "cell_type": "code",
   "execution_count": 1,
   "id": "2fa7723d",
   "metadata": {},
   "outputs": [],
   "source": [
    "from pymatgen.core import Lattice,Structure,Molecule\n",
    "from pymatgen.electronic_structure.plotter import BSPlotter\n",
    "from pymatgen.symmetry.analyzer import SpacegroupAnalyzer\n",
    "#from jupyter_jsmol.pymatgen import quick_view\n",
    "from pymatgen.ext.matproj import MPRester\n"
   ]
  },
  {
   "cell_type": "code",
   "execution_count": 2,
   "id": "4217e2dc",
   "metadata": {},
   "outputs": [],
   "source": [
    "with MPRester(\"T8fAP9J6w3C63ALkqu8u\") as m:\n",
    "    xtal = m.get_structure_by_material_id(\"mp-924129\")"
   ]
  },
  {
   "cell_type": "code",
   "execution_count": 3,
   "id": "2eb14e27",
   "metadata": {},
   "outputs": [
    {
     "name": "stdout",
     "output_type": "stream",
     "text": [
      "[PeriodicSite: Zr (0.0000, 0.0000, 0.0000) [0.0000, 0.0000, 0.0000], PeriodicSite: Ni (1.5407, 1.5407, 1.5407) [0.2500, 0.2500, 0.2500], PeriodicSite: Sn (3.0813, 3.0813, 3.0813) [0.5000, 0.5000, 0.5000]]\n"
     ]
    }
   ],
   "source": [
    "xtal.sites"
   ]
  },
  {
   "cell_type": "code",
   "execution_count": null,
   "id": "ac68445d",
   "metadata": {},
   "outputs": [],
   "source": []
  }
 ],
 "metadata": {
  "kernelspec": {
   "display_name": "Python 3",
   "language": "python",
   "name": "python3"
  },
  "language_info": {
   "codemirror_mode": {
    "name": "ipython",
    "version": 3
   },
   "file_extension": ".py",
   "mimetype": "text/x-python",
   "name": "python",
   "nbconvert_exporter": "python",
   "pygments_lexer": "ipython3",
   "version": "3.6.8"
  }
 },
 "nbformat": 4,
 "nbformat_minor": 5
}
