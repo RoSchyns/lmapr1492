{
 "cells": [
  {
   "cell_type": "code",
   "execution_count": 108,
   "id": "b8d88705",
   "metadata": {},
   "outputs": [],
   "source": [
    "from pymatgen import Lattice,Structure,Molecule\n",
    "from pymatgen.electronic_structure.plotter import BSPlotter\n",
    "from pymatgen.symmetry.analyzer import SpacegroupAnalyzer,PointGroupAnalyzer\n",
    "from jupyter_jsmol.pymatgen import quick_view\n",
    "from pymatgen.ext.matproj import MPRester\n",
    "import math\n",
    "import numpy as np"
   ]
  },
  {
   "cell_type": "code",
   "execution_count": 109,
   "id": "dfb70151",
   "metadata": {},
   "outputs": [],
   "source": [
    "with MPRester(\"T8fAP9J6w3C63ALkqu8u\") as m:\n",
    "    structure = m.get_structure_by_material_id(\"mp-924129\") #récupère les données du crystal sur MP \n",
    "    #/!\\ le CIF téléchargé n'est pas le 'symmetrized'\n",
    "#structure = Structure.from_file('ZrNiSn_mp-924129_symmetrized.cif') #pour la version 'symmetrized' du CIF"
   ]
  },
  {
   "cell_type": "code",
   "execution_count": 110,
   "id": "6a89bc47",
   "metadata": {
    "scrolled": true
   },
   "outputs": [
    {
     "data": {
      "application/vnd.jupyter.widget-view+json": {
       "model_id": "e7359a6d96e5447fb3bab5bf571283c8",
       "version_major": 2,
       "version_minor": 0
      },
      "text/plain": [
       "JsmolView(layout=Layout(align_self='stretch', height='400px'))"
      ]
     },
     "metadata": {},
     "output_type": "display_data"
    }
   ],
   "source": [
    "view = quick_view(structure,supercell = ([1,1,1]))  #graphique du cristal\n",
    "display(view)"
   ]
  },
  {
   "cell_type": "code",
   "execution_count": 111,
   "id": "27cfa0d4",
   "metadata": {},
   "outputs": [],
   "source": [
    "lattice = structure.lattice #le réseau conventionnel\n",
    "latticeR = lattice.reciprocal_lattice#le réseau réciproque\n",
    "symmetry = SpacegroupAnalyzer(structure)"
   ]
  },
  {
   "cell_type": "code",
   "execution_count": 112,
   "id": "7201f816",
   "metadata": {},
   "outputs": [
    {
     "data": {
      "text/plain": [
       "(4.357644534011465, 4.357644534011465, 4.357644534011465)"
      ]
     },
     "execution_count": 112,
     "metadata": {},
     "output_type": "execute_result"
    }
   ],
   "source": [
    "lattice.abc # les vecteurs de bases a,b,c de la maille conventionelle"
   ]
  },
  {
   "cell_type": "code",
   "execution_count": 113,
   "id": "87970413",
   "metadata": {},
   "outputs": [
    {
     "data": {
      "text/plain": [
       "(1.7659308649223882, 1.7659308649223882, 1.7659308649223882)"
      ]
     },
     "execution_count": 113,
     "metadata": {},
     "output_type": "execute_result"
    }
   ],
   "source": [
    "latticeR.abc # les vecteurs de bases a*,b*,c* du réseau réciproque"
   ]
  },
  {
   "cell_type": "code",
   "execution_count": 114,
   "id": "dbcf4cfd",
   "metadata": {},
   "outputs": [
    {
     "data": {
      "text/plain": [
       "(4.357644534011465,\n",
       " 4.357644534011465,\n",
       " 4.357644534011465,\n",
       " 60.00000000000001,\n",
       " 60.00000000000001,\n",
       " 60.00000000000001)"
      ]
     },
     "execution_count": 114,
     "metadata": {},
     "output_type": "execute_result"
    }
   ],
   "source": [
    "lattice.parameters"
   ]
  },
  {
   "cell_type": "markdown",
   "id": "7802e432",
   "metadata": {},
   "source": [
    "ici on a les parametres de la maille primitive. On observe 3 cotés de même longueur et 3 angles égaux à 60°. Cette maille est donc trigonal. Cependant si on regarde la maille conventionnelle on obtient ceci : "
   ]
  },
  {
   "cell_type": "code",
   "execution_count": 115,
   "id": "6a039067",
   "metadata": {},
   "outputs": [
    {
     "name": "stdout",
     "output_type": "stream",
     "text": [
      "type de maille : cubic\n",
      "système cristallin: cubic\n"
     ]
    }
   ],
   "source": [
    "print('type de maille :',symmetry.get_lattice_type())#donne le type de maille\n",
    "print('système cristallin:',symmetry.get_crystal_system())#donne le système cristallin"
   ]
  },
  {
   "cell_type": "code",
   "execution_count": 116,
   "id": "ebb9b591",
   "metadata": {},
   "outputs": [
    {
     "data": {
      "text/plain": [
       "'-43m'"
      ]
     },
     "execution_count": 116,
     "metadata": {},
     "output_type": "execute_result"
    }
   ],
   "source": [
    "symmetry.get_point_group_symbol()#Donne le groupe ponctuel du système"
   ]
  },
  {
   "cell_type": "code",
   "execution_count": null,
   "id": "e0b26d7e",
   "metadata": {},
   "outputs": [],
   "source": []
  }
 ],
 "metadata": {
  "kernelspec": {
   "display_name": "Python 3",
   "language": "python",
   "name": "python3"
  },
  "language_info": {
   "codemirror_mode": {
    "name": "ipython",
    "version": 3
   },
   "file_extension": ".py",
   "mimetype": "text/x-python",
   "name": "python",
   "nbconvert_exporter": "python",
   "pygments_lexer": "ipython3",
   "version": "3.6.8"
  }
 },
 "nbformat": 4,
 "nbformat_minor": 5
}
