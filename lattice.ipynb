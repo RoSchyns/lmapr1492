{
 "cells": [
  {
   "cell_type": "code",
   "execution_count": 34,
   "id": "b8d88705",
   "metadata": {},
   "outputs": [],
   "source": [
    "from pymatgen import Lattice,Structure,Molecule\n",
    "from pymatgen.electronic_structure.plotter import BSPlotter\n",
    "from pymatgen.symmetry.analyzer import SpacegroupAnalyzer,PointGroupAnalyzer\n",
    "from jupyter_jsmol.pymatgen import quick_view\n",
    "from pymatgen.ext.matproj import MPRester\n",
    "import math\n",
    "import numpy as np"
   ]
  },
  {
   "cell_type": "code",
   "execution_count": 35,
   "id": "dfb70151",
   "metadata": {},
   "outputs": [],
   "source": [
    "with MPRester(\"T8fAP9J6w3C63ALkqu8u\") as m:\n",
    "    struct = m.get_structure_by_material_id(\"mp-924129\") #récupère les données du crystal sur MP \n",
    "\n",
    "symmetry = SpacegroupAnalyzer(struct) #Pour les analyses de symmétrie du crystal\n",
    "structure = symmetry.get_conventional_standard_structure() #donne la maille conventionnelle\n",
    "lattice = structure.lattice #Le réseau conventionnel\n",
    "latticeR = lattice.reciprocal_lattice#le réseau réciproque\n",
    "\n"
   ]
  },
  {
   "cell_type": "code",
   "execution_count": 36,
   "id": "6a89bc47",
   "metadata": {
    "scrolled": true
   },
   "outputs": [
    {
     "data": {
      "application/vnd.jupyter.widget-view+json": {
       "model_id": "4bd9e8edd44e4e37a8a362fcab3c9b98",
       "version_major": 2,
       "version_minor": 0
      },
      "text/plain": [
       "JsmolView(layout=Layout(align_self='stretch', height='400px'))"
      ]
     },
     "metadata": {},
     "output_type": "display_data"
    }
   ],
   "source": [
    "view = quick_view(structure,supercell = ([1,1,1]))  #rprésentation du cristal conventionnel\n",
    "display(view)"
   ]
  },
  {
   "cell_type": "code",
   "execution_count": 37,
   "id": "27cfa0d4",
   "metadata": {},
   "outputs": [
    {
     "data": {
      "application/vnd.jupyter.widget-view+json": {
       "model_id": "6157fe32638f4a4f8925e76c2e5a4c7f",
       "version_major": 2,
       "version_minor": 0
      },
      "text/plain": [
       "JsmolView(layout=Layout(align_self='stretch', height='400px'))"
      ]
     },
     "metadata": {},
     "output_type": "display_data"
    }
   ],
   "source": [
    "view = quick_view(struct,supercell = ([1,1,1]))  #représentation du cristal primitif\n",
    "display(view)"
   ]
  },
  {
   "cell_type": "code",
   "execution_count": 38,
   "id": "7201f816",
   "metadata": {},
   "outputs": [
    {
     "data": {
      "text/plain": [
       "(6.16264, 6.16264, 6.16264)"
      ]
     },
     "execution_count": 38,
     "metadata": {},
     "output_type": "execute_result"
    }
   ],
   "source": [
    "lattice.abc # les vecteurs de bases a,b,c du réseau conventionnel"
   ]
  },
  {
   "cell_type": "code",
   "execution_count": 39,
   "id": "87970413",
   "metadata": {},
   "outputs": [
    {
     "data": {
      "text/plain": [
       "(1.0195606602332095, 1.0195606602332095, 1.0195606602332095)"
      ]
     },
     "execution_count": 39,
     "metadata": {},
     "output_type": "execute_result"
    }
   ],
   "source": [
    "latticeR.abc # les vecteurs de bases a*,b*,c* du réseau réciproque"
   ]
  },
  {
   "cell_type": "code",
   "execution_count": 40,
   "id": "dbcf4cfd",
   "metadata": {},
   "outputs": [
    {
     "data": {
      "text/plain": [
       "(6.16264, 6.16264, 6.16264, 90.0, 90.0, 90.0)"
      ]
     },
     "execution_count": 40,
     "metadata": {},
     "output_type": "execute_result"
    }
   ],
   "source": [
    "lattice.parameters"
   ]
  },
  {
   "cell_type": "code",
   "execution_count": 41,
   "id": "6a039067",
   "metadata": {},
   "outputs": [
    {
     "name": "stdout",
     "output_type": "stream",
     "text": [
      "type de maille : cubic\n",
      "système cristallin: cubic\n"
     ]
    }
   ],
   "source": [
    "print('type de maille :',symmetry.get_lattice_type())#donne le type de maille\n",
    "print('système cristallin:',symmetry.get_crystal_system())#donne le système cristallin"
   ]
  },
  {
   "cell_type": "code",
   "execution_count": 42,
   "id": "ebb9b591",
   "metadata": {},
   "outputs": [
    {
     "data": {
      "text/plain": [
       "'-43m'"
      ]
     },
     "execution_count": 42,
     "metadata": {},
     "output_type": "execute_result"
    }
   ],
   "source": [
    "symmetry.get_point_group_symbol()#Donne le groupe ponctuel du système"
   ]
  },
  {
   "cell_type": "code",
   "execution_count": null,
   "id": "e0b26d7e",
   "metadata": {},
   "outputs": [],
   "source": []
  }
 ],
 "metadata": {
  "kernelspec": {
   "display_name": "Python 3",
   "language": "python",
   "name": "python3"
  },
  "language_info": {
   "codemirror_mode": {
    "name": "ipython",
    "version": 3
   },
   "file_extension": ".py",
   "mimetype": "text/x-python",
   "name": "python",
   "nbconvert_exporter": "python",
   "pygments_lexer": "ipython3",
   "version": "3.6.8"
  }
 },
 "nbformat": 4,
 "nbformat_minor": 5
}
