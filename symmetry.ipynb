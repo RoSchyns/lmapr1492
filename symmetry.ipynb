{
 "cells": [
  {
   "cell_type": "code",
   "execution_count": 50,
   "id": "51b7971c",
   "metadata": {},
   "outputs": [],
   "source": [
    "from pymatgen.ext.matproj import MPRester\n",
    "from pymatgen import Lattice,Structure,Molecule\n",
    "from jupyter_jsmol.pymatgen import quick_view\n",
    "from pymatgen.symmetry.analyzer import SpacegroupAnalyzer\n",
    "from jupyter_jsmol import JsmolView\n",
    "\n",
    "from jupyter_jsmol.pymatgen import quick_view"
   ]
  },
  {
   "cell_type": "code",
   "execution_count": 61,
   "id": "204b3982",
   "metadata": {},
   "outputs": [],
   "source": [
    "with MPRester(\"T8fAP9J6w3C63ALkqu8u\") as m:\n",
    "    struct = m.get_structure_by_material_id(\"mp-924129\") #récupère les données du crystal sur MP \n",
    "\n",
    "symmetry = SpacegroupAnalyzer(struct) #Pour les analyses de symmétrie du crystal\n",
    "structure = symmetry.get_conventional_standard_structure() #donne la maille conventionnelle\n",
    "lattice = structure.lattice #Le réseau conventionnel\n",
    "latticeR = lattice.reciprocal_lattice#le réseau réciproque"
   ]
  },
  {
   "cell_type": "code",
   "execution_count": 63,
   "id": "69ede4c7",
   "metadata": {},
   "outputs": [
    {
     "data": {
      "application/vnd.jupyter.widget-view+json": {
       "model_id": "",
       "version_major": 2,
       "version_minor": 0
      },
      "text/plain": [
       "JsmolView(layout=Layout(align_self='stretch', height='400px'))"
      ]
     },
     "metadata": {},
     "output_type": "display_data"
    }
   ],
   "source": [
    "view1 = quick_view(structure,supercell = ([1,1,1]))\n",
    "display(view1)"
   ]
  },
  {
   "cell_type": "code",
   "execution_count": 65,
   "id": "d9f52997",
   "metadata": {},
   "outputs": [],
   "source": [
    "view1.script(\"draw symop 8 {atomno=1}\")"
   ]
  },
  {
   "cell_type": "markdown",
   "id": "470a856a",
   "metadata": {},
   "source": [
    "L'atome de Zr en (0,0,0) subi une symmétrie de plan miroir (z,y,x) pour se retrouver en (0,0,0) "
   ]
  },
  {
   "cell_type": "code",
   "execution_count": 66,
   "id": "94870502",
   "metadata": {},
   "outputs": [
    {
     "data": {
      "application/vnd.jupyter.widget-view+json": {
       "model_id": "",
       "version_major": 2,
       "version_minor": 0
      },
      "text/plain": [
       "JsmolView(layout=Layout(align_self='stretch', height='400px'))"
      ]
     },
     "metadata": {},
     "output_type": "display_data"
    }
   ],
   "source": [
    "view1.close()\n",
    "view2 = quick_view(structure,supercell = ([1,1,1]))\n",
    "display(view2)"
   ]
  },
  {
   "cell_type": "code",
   "execution_count": 71,
   "id": "eb35b424",
   "metadata": {},
   "outputs": [],
   "source": [
    "view2.script(\"draw symop 2 {atomno=2}\")"
   ]
  },
  {
   "cell_type": "markdown",
   "id": "c5da4ac1",
   "metadata": {},
   "source": [
    "L'atome de Ni en (1/3,1/3,2/3) subi une inversion de type (-x,-y,-z) avec le point (0,0,0) comme point de symmétrie pour se retrouver en (-1/3,-1/3,-2/3) ce qui correspond à l'atome en (2/3,2/3,1/3) "
   ]
  },
  {
   "cell_type": "code",
   "execution_count": 72,
   "id": "822c92cc",
   "metadata": {},
   "outputs": [
    {
     "data": {
      "application/vnd.jupyter.widget-view+json": {
       "model_id": "",
       "version_major": 2,
       "version_minor": 0
      },
      "text/plain": [
       "JsmolView(layout=Layout(align_self='stretch', height='400px'))"
      ]
     },
     "metadata": {},
     "output_type": "display_data"
    }
   ],
   "source": [
    "view2.close()\n",
    "view3 = quick_view(structure,supercell = ([1,1,1]))\n",
    "display(view3)"
   ]
  },
  {
   "cell_type": "code",
   "execution_count": 76,
   "id": "cd8d9d6f",
   "metadata": {},
   "outputs": [],
   "source": [
    "view3.script(\"draw symop 4 {atomno=8}\")"
   ]
  },
  {
   "cell_type": "markdown",
   "id": "1f2a306b",
   "metadata": {},
   "source": [
    "L'atome de Sn en (1/2,1/2,2/2) subi une roto-inversion d'ordre 4 de type (-x,-y-z,-z) avec le point (0,0,0) comme point de symmétrie pour se retrouver en (-1,1,-1/2) ce qui correspond à l'atome en (0,1,1/2) "
   ]
  },
  {
   "cell_type": "code",
   "execution_count": 77,
   "id": "14a2637b",
   "metadata": {},
   "outputs": [],
   "source": [
    "view3.close()"
   ]
  },
  {
   "cell_type": "code",
   "execution_count": null,
   "id": "38f09ccb",
   "metadata": {},
   "outputs": [],
   "source": []
  }
 ],
 "metadata": {
  "kernelspec": {
   "display_name": "Python 3",
   "language": "python",
   "name": "python3"
  },
  "language_info": {
   "codemirror_mode": {
    "name": "ipython",
    "version": 3
   },
   "file_extension": ".py",
   "mimetype": "text/x-python",
   "name": "python",
   "nbconvert_exporter": "python",
   "pygments_lexer": "ipython3",
   "version": "3.6.8"
  }
 },
 "nbformat": 4,
 "nbformat_minor": 5
}
