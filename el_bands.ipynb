{
 "cells": [
  {
   "cell_type": "code",
   "execution_count": 13,
   "id": "866880ff",
   "metadata": {},
   "outputs": [
    {
     "ename": "ModuleNotFoundError",
     "evalue": "No module named 'pymatgen'",
     "output_type": "error",
     "traceback": [
      "\u001b[0;31m---------------------------------------------------------------------------\u001b[0m",
      "\u001b[0;31mModuleNotFoundError\u001b[0m                       Traceback (most recent call last)",
      "\u001b[0;32m/tmp/ipykernel_28128/673531520.py\u001b[0m in \u001b[0;36m<module>\u001b[0;34m\u001b[0m\n\u001b[0;32m----> 1\u001b[0;31m \u001b[0;32mfrom\u001b[0m \u001b[0mpymatgen\u001b[0m\u001b[0;34m.\u001b[0m\u001b[0mext\u001b[0m\u001b[0;34m.\u001b[0m\u001b[0mmatproj\u001b[0m \u001b[0;32mimport\u001b[0m \u001b[0mMPRester\u001b[0m\u001b[0;34m\u001b[0m\u001b[0;34m\u001b[0m\u001b[0m\n\u001b[0m\u001b[1;32m      2\u001b[0m \u001b[0;32mfrom\u001b[0m \u001b[0mpymatgen\u001b[0m \u001b[0;32mimport\u001b[0m \u001b[0mLattice\u001b[0m\u001b[0;34m,\u001b[0m\u001b[0mStructure\u001b[0m\u001b[0;34m,\u001b[0m\u001b[0mMolecule\u001b[0m\u001b[0;34m\u001b[0m\u001b[0;34m\u001b[0m\u001b[0m\n\u001b[1;32m      3\u001b[0m \u001b[0;32mfrom\u001b[0m \u001b[0mjupyter_jsmol\u001b[0m\u001b[0;34m.\u001b[0m\u001b[0mpymatgen\u001b[0m \u001b[0;32mimport\u001b[0m \u001b[0mquick_view\u001b[0m\u001b[0;34m\u001b[0m\u001b[0;34m\u001b[0m\u001b[0m\n\u001b[1;32m      4\u001b[0m \u001b[0;32mfrom\u001b[0m \u001b[0mpymatgen\u001b[0m\u001b[0;34m.\u001b[0m\u001b[0msymmetry\u001b[0m\u001b[0;34m.\u001b[0m\u001b[0manalyzer\u001b[0m \u001b[0;32mimport\u001b[0m \u001b[0mSpacegroupAnalyzer\u001b[0m\u001b[0;34m\u001b[0m\u001b[0;34m\u001b[0m\u001b[0m\n\u001b[1;32m      5\u001b[0m \u001b[0;32mfrom\u001b[0m \u001b[0mjupyter_jsmol\u001b[0m \u001b[0;32mimport\u001b[0m \u001b[0mJsmolView\u001b[0m\u001b[0;34m\u001b[0m\u001b[0;34m\u001b[0m\u001b[0m\n",
      "\u001b[0;31mModuleNotFoundError\u001b[0m: No module named 'pymatgen'"
     ]
    }
   ],
   "source": [
    "from pymatgen.ext.matproj import MPRester\n",
    "from pymatgen import Lattice,Structure,Molecule\n",
    "from jupyter_jsmol.pymatgen import quick_view\n",
    "from pymatgen.symmetry.analyzer import SpacegroupAnalyzer\n",
    "from jupyter_jsmol import JsmolView\n",
    "from pymatgen.analysis.diffraction.xrd import XRDCalculator\n",
    "from pymatgen.electronic_structure import bandstructure\n",
    "from pymatgen.electronic_structure import plotter\n",
    "from pymatgen.electronic_structure.plotter import BSPlotter\n",
    "\n",
    "from jupyter_jsmol.pymatgen import quick_view"
   ]
  },
  {
   "cell_type": "code",
   "execution_count": 14,
   "id": "9dc2e4a0",
   "metadata": {},
   "outputs": [
    {
     "ename": "NameError",
     "evalue": "name 'MPRester' is not defined",
     "output_type": "error",
     "traceback": [
      "\u001b[0;31m---------------------------------------------------------------------------\u001b[0m",
      "\u001b[0;31mNameError\u001b[0m                                 Traceback (most recent call last)",
      "\u001b[0;32m/tmp/ipykernel_28128/723583873.py\u001b[0m in \u001b[0;36m<module>\u001b[0;34m\u001b[0m\n\u001b[0;32m----> 1\u001b[0;31m \u001b[0;32mwith\u001b[0m \u001b[0mMPRester\u001b[0m\u001b[0;34m(\u001b[0m\u001b[0;34m\"T8fAP9J6w3C63ALkqu8u\"\u001b[0m\u001b[0;34m)\u001b[0m \u001b[0;32mas\u001b[0m \u001b[0mm\u001b[0m\u001b[0;34m:\u001b[0m\u001b[0;34m\u001b[0m\u001b[0;34m\u001b[0m\u001b[0m\n\u001b[0m\u001b[1;32m      2\u001b[0m     \u001b[0mstruct\u001b[0m \u001b[0;34m=\u001b[0m \u001b[0mm\u001b[0m\u001b[0;34m.\u001b[0m\u001b[0mget_structure_by_material_id\u001b[0m\u001b[0;34m(\u001b[0m\u001b[0;34m\"mp-924129\"\u001b[0m\u001b[0;34m)\u001b[0m \u001b[0;31m#récupère les données du crystal sur MP\u001b[0m\u001b[0;34m\u001b[0m\u001b[0;34m\u001b[0m\u001b[0m\n\u001b[1;32m      3\u001b[0m     \u001b[0mband_struct\u001b[0m \u001b[0;34m=\u001b[0m \u001b[0mm\u001b[0m\u001b[0;34m.\u001b[0m\u001b[0mget_bandstructure_by_material_id\u001b[0m\u001b[0;34m(\u001b[0m\u001b[0;34m\"mp-924129\"\u001b[0m\u001b[0;34m)\u001b[0m\u001b[0;31m#récupère les données sur la structure des bandes\u001b[0m\u001b[0;34m\u001b[0m\u001b[0;34m\u001b[0m\u001b[0m\n\u001b[1;32m      4\u001b[0m \u001b[0;34m\u001b[0m\u001b[0m\n\u001b[1;32m      5\u001b[0m \u001b[0msymmetry\u001b[0m \u001b[0;34m=\u001b[0m \u001b[0mSpacegroupAnalyzer\u001b[0m\u001b[0;34m(\u001b[0m\u001b[0mstruct\u001b[0m\u001b[0;34m)\u001b[0m \u001b[0;31m#Pour les analyses de symmétrie du crystal\u001b[0m\u001b[0;34m\u001b[0m\u001b[0;34m\u001b[0m\u001b[0m\n",
      "\u001b[0;31mNameError\u001b[0m: name 'MPRester' is not defined"
     ]
    }
   ],
   "source": [
    "with MPRester(\"T8fAP9J6w3C63ALkqu8u\") as m:\n",
    "    struct = m.get_structure_by_material_id(\"mp-924129\") #récupère les données du crystal sur MP \n",
    "    band_struct = m.get_bandstructure_by_material_id(\"mp-924129\")#récupère les données sur la structure des bandes\n",
    "\n",
    "symmetry = SpacegroupAnalyzer(struct) #Pour les analyses de symmétrie du crystal\n",
    "structure = symmetry.get_conventional_standard_structure() #donne la maille conventionnelle\n",
    "lattice = structure.lattice #Le réseau conventionnel\n",
    "latticeR = lattice.reciprocal_lattice#le réseau réciproque\n",
    "\n",
    "sym = SpacegroupAnalyzer(structure).get_symmetry_operations()\n",
    "\n",
    "xrdc = XRDCalculator(1.54060) #initialise le XRD calculator\n",
    "pattern = xrdc.get_pattern(structure) #représentation du pattern de diffraction\n",
    "\n"
   ]
  },
  {
   "cell_type": "markdown",
   "id": "b4777d6d",
   "metadata": {},
   "source": [
    "Bande interdite"
   ]
  },
  {
   "cell_type": "code",
   "execution_count": 10,
   "id": "99705e6f",
   "metadata": {},
   "outputs": [
    {
     "ename": "NameError",
     "evalue": "name 'band_struct' is not defined",
     "output_type": "error",
     "traceback": [
      "\u001b[0;31m---------------------------------------------------------------------------\u001b[0m",
      "\u001b[0;31mNameError\u001b[0m                                 Traceback (most recent call last)",
      "\u001b[0;32m/tmp/ipykernel_28031/3493366908.py\u001b[0m in \u001b[0;36m<module>\u001b[0;34m\u001b[0m\n\u001b[0;32m----> 1\u001b[0;31m \u001b[0mband_gap\u001b[0m \u001b[0;34m=\u001b[0m \u001b[0mband_struct\u001b[0m\u001b[0;34m.\u001b[0m\u001b[0mget_band_gap\u001b[0m\u001b[0;34m(\u001b[0m\u001b[0;34m)\u001b[0m\u001b[0;34m\u001b[0m\u001b[0;34m\u001b[0m\u001b[0m\n\u001b[0m\u001b[1;32m      2\u001b[0m \u001b[0menergy\u001b[0m \u001b[0;34m=\u001b[0m \u001b[0mband_gap\u001b[0m\u001b[0;34m[\u001b[0m\u001b[0;34m'energy'\u001b[0m\u001b[0;34m]\u001b[0m\u001b[0;34m\u001b[0m\u001b[0;34m\u001b[0m\u001b[0m\n\u001b[1;32m      3\u001b[0m \u001b[0mdirect\u001b[0m \u001b[0;34m=\u001b[0m \u001b[0mband_gap\u001b[0m\u001b[0;34m[\u001b[0m\u001b[0;34m'direct'\u001b[0m\u001b[0;34m]\u001b[0m\u001b[0;34m\u001b[0m\u001b[0;34m\u001b[0m\u001b[0m\n\u001b[1;32m      4\u001b[0m \u001b[0mkpoint\u001b[0m \u001b[0;34m=\u001b[0m \u001b[0mband_gap\u001b[0m\u001b[0;34m[\u001b[0m\u001b[0;34m'transition'\u001b[0m\u001b[0;34m]\u001b[0m\u001b[0;34m\u001b[0m\u001b[0;34m\u001b[0m\u001b[0m\n\u001b[1;32m      5\u001b[0m \u001b[0mprint\u001b[0m\u001b[0;34m(\u001b[0m\u001b[0;34m' Energie du gap : {}eV \\n Bande direct ? {} \\n Vecteur k de transition : {}'\u001b[0m\u001b[0;34m.\u001b[0m\u001b[0mformat\u001b[0m\u001b[0;34m(\u001b[0m\u001b[0menergy\u001b[0m\u001b[0;34m,\u001b[0m\u001b[0mdirect\u001b[0m\u001b[0;34m,\u001b[0m\u001b[0mkpoint\u001b[0m\u001b[0;34m)\u001b[0m\u001b[0;34m)\u001b[0m\u001b[0;34m\u001b[0m\u001b[0;34m\u001b[0m\u001b[0m\n",
      "\u001b[0;31mNameError\u001b[0m: name 'band_struct' is not defined"
     ]
    }
   ],
   "source": [
    "band_gap = band_struct.get_band_gap()\n",
    "energy = band_gap['energy']\n",
    "direct = band_gap['direct']\n",
    "kpoint = band_gap['transition']\n",
    "print(' Energie du gap : {}eV \\n Bande direct ? {} \\n Vecteur k de transition : {}'.format(energy,direct,kpoint))"
   ]
  },
  {
   "cell_type": "markdown",
   "id": "740e4264",
   "metadata": {},
   "source": [
    "Dispersion"
   ]
  },
  {
   "cell_type": "code",
   "execution_count": 11,
   "id": "1f5f7c26",
   "metadata": {},
   "outputs": [
    {
     "ename": "NameError",
     "evalue": "name 'band_struct' is not defined",
     "output_type": "error",
     "traceback": [
      "\u001b[0;31m---------------------------------------------------------------------------\u001b[0m",
      "\u001b[0;31mNameError\u001b[0m                                 Traceback (most recent call last)",
      "\u001b[0;32m/tmp/ipykernel_28031/3275615527.py\u001b[0m in \u001b[0;36m<module>\u001b[0;34m\u001b[0m\n\u001b[1;32m      1\u001b[0m \u001b[0;31m#trouver le point le plus haut de la bande de valence et calculer le vecteur k associé\u001b[0m\u001b[0;34m\u001b[0m\u001b[0;34m\u001b[0m\u001b[0;34m\u001b[0m\u001b[0m\n\u001b[0;32m----> 2\u001b[0;31m \u001b[0mvbm\u001b[0m \u001b[0;34m=\u001b[0m \u001b[0mband_struct\u001b[0m\u001b[0;34m.\u001b[0m\u001b[0mget_vbm\u001b[0m\u001b[0;34m(\u001b[0m\u001b[0;34m)\u001b[0m\u001b[0;34m\u001b[0m\u001b[0;34m\u001b[0m\u001b[0m\n\u001b[0m\u001b[1;32m      3\u001b[0m \u001b[0menergy_vbm\u001b[0m \u001b[0;34m=\u001b[0m \u001b[0mvbm\u001b[0m\u001b[0;34m[\u001b[0m\u001b[0;34m'energy'\u001b[0m\u001b[0;34m]\u001b[0m\u001b[0;34m\u001b[0m\u001b[0;34m\u001b[0m\u001b[0m\n\u001b[1;32m      4\u001b[0m \u001b[0mkpoint_vbm\u001b[0m \u001b[0;34m=\u001b[0m \u001b[0mvbm\u001b[0m\u001b[0;34m[\u001b[0m\u001b[0;34m'kpoint'\u001b[0m\u001b[0;34m]\u001b[0m\u001b[0;34m.\u001b[0m\u001b[0mcart_coords\u001b[0m\u001b[0;34m\u001b[0m\u001b[0;34m\u001b[0m\u001b[0m\n\u001b[1;32m      5\u001b[0m \u001b[0mprint\u001b[0m\u001b[0;34m(\u001b[0m\u001b[0;34m' Energie du point le plus haut de la bande : {}eV \\n coordonées cartésiennes du vecteur k associé {}'\u001b[0m\u001b[0;34m.\u001b[0m\u001b[0mformat\u001b[0m\u001b[0;34m(\u001b[0m\u001b[0menergy_vbm\u001b[0m\u001b[0;34m,\u001b[0m\u001b[0mkpoint_vbm\u001b[0m\u001b[0;34m)\u001b[0m\u001b[0;34m)\u001b[0m\u001b[0;34m\u001b[0m\u001b[0;34m\u001b[0m\u001b[0m\n",
      "\u001b[0;31mNameError\u001b[0m: name 'band_struct' is not defined"
     ]
    }
   ],
   "source": [
    "#trouver le point le plus haut de la bande de valence et calculer le vecteur k associé\n",
    "vbm = band_struct.get_vbm()\n",
    "energy_vbm = vbm['energy']\n",
    "kpoint_vbm = vbm['kpoint'].cart_coords\n",
    "print(' Energie du point le plus haut de la bande : {}eV \\n coordonées cartésiennes du vecteur k associé {}'.format(energy_vbm,kpoint_vbm))"
   ]
  },
  {
   "cell_type": "code",
   "execution_count": 12,
   "id": "dce74159",
   "metadata": {},
   "outputs": [
    {
     "ename": "NameError",
     "evalue": "name 'band_struct' is not defined",
     "output_type": "error",
     "traceback": [
      "\u001b[0;31m---------------------------------------------------------------------------\u001b[0m",
      "\u001b[0;31mNameError\u001b[0m                                 Traceback (most recent call last)",
      "\u001b[0;32m/tmp/ipykernel_28031/145948603.py\u001b[0m in \u001b[0;36m<module>\u001b[0;34m\u001b[0m\n\u001b[1;32m      1\u001b[0m \u001b[0;31m#trouver le point le plus bas de la bande de conduction et calculer le vecteur k associé\u001b[0m\u001b[0;34m\u001b[0m\u001b[0;34m\u001b[0m\u001b[0;34m\u001b[0m\u001b[0m\n\u001b[0;32m----> 2\u001b[0;31m \u001b[0mcbm\u001b[0m \u001b[0;34m=\u001b[0m \u001b[0mband_struct\u001b[0m\u001b[0;34m.\u001b[0m\u001b[0mget_cbm\u001b[0m\u001b[0;34m(\u001b[0m\u001b[0;34m)\u001b[0m\u001b[0;34m\u001b[0m\u001b[0;34m\u001b[0m\u001b[0m\n\u001b[0m\u001b[1;32m      3\u001b[0m \u001b[0menergy_cbm\u001b[0m \u001b[0;34m=\u001b[0m \u001b[0mcbm\u001b[0m\u001b[0;34m[\u001b[0m\u001b[0;34m'energy'\u001b[0m\u001b[0;34m]\u001b[0m\u001b[0;34m\u001b[0m\u001b[0;34m\u001b[0m\u001b[0m\n\u001b[1;32m      4\u001b[0m \u001b[0mkpoint_cbm\u001b[0m \u001b[0;34m=\u001b[0m \u001b[0mcbm\u001b[0m\u001b[0;34m[\u001b[0m\u001b[0;34m'kpoint'\u001b[0m\u001b[0;34m]\u001b[0m\u001b[0;34m.\u001b[0m\u001b[0mcart_coords\u001b[0m\u001b[0;34m\u001b[0m\u001b[0;34m\u001b[0m\u001b[0m\n\u001b[1;32m      5\u001b[0m \u001b[0mprint\u001b[0m\u001b[0;34m(\u001b[0m\u001b[0;34m' Energie du point le plus bas de la bande : {}eV \\n coordonées cartésiennes du vecteur k associé {}'\u001b[0m\u001b[0;34m.\u001b[0m\u001b[0mformat\u001b[0m\u001b[0;34m(\u001b[0m\u001b[0menergy_cbm\u001b[0m\u001b[0;34m,\u001b[0m\u001b[0mkpoint_cbm\u001b[0m\u001b[0;34m)\u001b[0m\u001b[0;34m)\u001b[0m\u001b[0;34m\u001b[0m\u001b[0;34m\u001b[0m\u001b[0m\n",
      "\u001b[0;31mNameError\u001b[0m: name 'band_struct' is not defined"
     ]
    }
   ],
   "source": [
    "#trouver le point le plus bas de la bande de conduction et calculer le vecteur k associé\n",
    "cbm = band_struct.get_cbm()\n",
    "energy_cbm = cbm['energy']\n",
    "kpoint_cbm = cbm['kpoint'].cart_coords\n",
    "print(' Energie du point le plus bas de la bande : {}eV \\n coordonées cartésiennes du vecteur k associé {}'.format(energy_cbm,kpoint_cbm))"
   ]
  },
  {
   "cell_type": "code",
   "execution_count": 13,
   "id": "d2a25c93",
   "metadata": {},
   "outputs": [
    {
     "ename": "NameError",
     "evalue": "name 'plotter' is not defined",
     "output_type": "error",
     "traceback": [
      "\u001b[0;31m---------------------------------------------------------------------------\u001b[0m",
      "\u001b[0;31mNameError\u001b[0m                                 Traceback (most recent call last)",
      "\u001b[0;32m/tmp/ipykernel_28031/1771196785.py\u001b[0m in \u001b[0;36m<module>\u001b[0;34m\u001b[0m\n\u001b[0;32m----> 1\u001b[0;31m \u001b[0mdata\u001b[0m \u001b[0;34m=\u001b[0m \u001b[0mplotter\u001b[0m\u001b[0;34m.\u001b[0m\u001b[0mBSPlotter\u001b[0m\u001b[0;34m(\u001b[0m\u001b[0mband_struct\u001b[0m\u001b[0;34m)\u001b[0m\u001b[0;34m.\u001b[0m\u001b[0mbs_plot_data\u001b[0m\u001b[0;34m(\u001b[0m\u001b[0;34m)\u001b[0m\u001b[0;34m\u001b[0m\u001b[0;34m\u001b[0m\u001b[0m\n\u001b[0m\u001b[1;32m      2\u001b[0m \u001b[0mabscisse\u001b[0m \u001b[0;34m=\u001b[0m \u001b[0mdata\u001b[0m\u001b[0;34m.\u001b[0m\u001b[0mget\u001b[0m\u001b[0;34m(\u001b[0m\u001b[0;34m'ticks'\u001b[0m\u001b[0;34m)\u001b[0m\u001b[0;34m.\u001b[0m\u001b[0mget\u001b[0m\u001b[0;34m(\u001b[0m\u001b[0;34m'distance'\u001b[0m\u001b[0;34m)\u001b[0m\u001b[0;34m\u001b[0m\u001b[0;34m\u001b[0m\u001b[0m\n\u001b[1;32m      3\u001b[0m \u001b[0menergy\u001b[0m \u001b[0;34m=\u001b[0m \u001b[0mdata\u001b[0m\u001b[0;34m.\u001b[0m\u001b[0mget\u001b[0m\u001b[0;34m(\u001b[0m\u001b[0;34m'energy'\u001b[0m\u001b[0;34m)\u001b[0m\u001b[0;34m\u001b[0m\u001b[0;34m\u001b[0m\u001b[0m\n\u001b[1;32m      4\u001b[0m \u001b[0mi\u001b[0m \u001b[0;34m=\u001b[0m \u001b[0;36m0\u001b[0m\u001b[0;34m\u001b[0m\u001b[0;34m\u001b[0m\u001b[0m\n\u001b[1;32m      5\u001b[0m \u001b[0mdx\u001b[0m \u001b[0;34m=\u001b[0m \u001b[0;36m0\u001b[0m\u001b[0;34m\u001b[0m\u001b[0;34m\u001b[0m\u001b[0m\n",
      "\u001b[0;31mNameError\u001b[0m: name 'plotter' is not defined"
     ]
    }
   ],
   "source": [
    "data = plotter.BSPlotter(band_struct).bs_plot_data()\n",
    "abscisse = data.get('ticks').get('distance')\n",
    "energy = data.get('energy')\n",
    "i = 0\n",
    "dx = 0\n",
    "dy1 = 0\n",
    "dy2 = 0\n",
    "vbm_band = vbm.get('band_index') # donne les index des bandes vdm : 18,19,20\n",
    "cbm_band = cbm.get('band_index') # donne les index des bandes cdm : 21\n",
    "print(vbm_band,cbm_band)\n",
    "\n",
    "index_vbm = [18,19,20]\n",
    "index_cbm = 21\n",
    "print(energy['1'][0][0])\n",
    "while i < len(abscisse):\n",
    "    dx = abscisse[i]-abscisse[i+1]\n",
    "    for j in index_vbm:\n",
    "        dy1 = energy[i]\n",
    "    \n"
   ]
  },
  {
   "cell_type": "code",
   "execution_count": null,
   "id": "1671d55d",
   "metadata": {},
   "outputs": [],
   "source": []
  }
 ],
 "metadata": {
  "kernelspec": {
   "display_name": "Python 3 (ipykernel)",
   "language": "python",
   "name": "python3"
  },
  "language_info": {
   "codemirror_mode": {
    "name": "ipython",
    "version": 3
   },
   "file_extension": ".py",
   "mimetype": "text/x-python",
   "name": "python",
   "nbconvert_exporter": "python",
   "pygments_lexer": "ipython3",
   "version": "3.9.6"
  }
 },
 "nbformat": 4,
 "nbformat_minor": 5
}
